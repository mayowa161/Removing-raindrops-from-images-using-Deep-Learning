{
 "cells": [
  {
   "cell_type": "code",
   "execution_count": 5,
   "id": "d4289233",
   "metadata": {},
   "outputs": [
    {
     "name": "stdout",
     "output_type": "stream",
     "text": [
      "Loss dictionary keys: ['model_loss', 'mask_loss', 'total_gen_loss', 'adversarial_loss', 'ssim', 'vgg', 'ms_loss', 'disc_loss', 'val_model_loss', 'val_disc_loss']\n",
      "Number of epochs recorded in validation loss: 50\n",
      "All 50 epochs were recorded.\n",
      "Best epoch (0-indexed): 4, with validation loss: 1.0618\n",
      "Best epoch (1-indexed): 5\n"
     ]
    }
   ],
   "source": [
    "import pickle\n",
    "import os\n",
    "import numpy as np\n",
    "\n",
    "# Specify the fold index (change as needed)\n",
    "fold_index = 4\n",
    "loss_file = f\"/users/lady6758/Mayowa_4YP_Code/ReTraining_ReTesting/end-to-end-model/5FoldCV/model{fold_index}/loss.pkl\"\n",
    "\n",
    "# Load the loss dictionary from file\n",
    "with open(loss_file, 'rb') as f:\n",
    "    loss_dict = pickle.load(f)\n",
    "\n",
    "# Print keys in the loss dictionary\n",
    "print(\"Loss dictionary keys:\", list(loss_dict.keys()))\n",
    "\n",
    "# Check the length of the 'val_model_loss' list to ensure all epochs (50) are recorded\n",
    "val_model_loss = loss_dict['val_model_loss']\n",
    "print(\"Number of epochs recorded in validation loss:\", len(val_model_loss))\n",
    "\n",
    "if len(val_model_loss) == 50:\n",
    "    print(\"All 50 epochs were recorded.\")\n",
    "else:\n",
    "    print(f\"Only {len(val_model_loss)} epochs were recorded.\")\n",
    "\n",
    "# Find the index (0-indexed) of the best validation model loss\n",
    "best_epoch_index = np.argmin(val_model_loss)\n",
    "best_loss = val_model_loss[best_epoch_index]\n",
    "print(f\"Best epoch (0-indexed): {best_epoch_index}, with validation loss: {best_loss:.4f}\")\n",
    "\n",
    "# Optionally, print the epoch number (1-indexed)\n",
    "print(f\"Best epoch (1-indexed): {best_epoch_index + 1}\")\n"
   ]
  },
  {
   "cell_type": "code",
   "execution_count": null,
   "id": "55616843",
   "metadata": {},
   "outputs": [],
   "source": []
  }
 ],
 "metadata": {
  "kernelspec": {
   "display_name": "Mayowa_code_env",
   "language": "python",
   "name": "python3"
  },
  "language_info": {
   "codemirror_mode": {
    "name": "ipython",
    "version": 3
   },
   "file_extension": ".py",
   "mimetype": "text/x-python",
   "name": "python",
   "nbconvert_exporter": "python",
   "pygments_lexer": "ipython3",
   "version": "3.12.8"
  }
 },
 "nbformat": 4,
 "nbformat_minor": 5
}
