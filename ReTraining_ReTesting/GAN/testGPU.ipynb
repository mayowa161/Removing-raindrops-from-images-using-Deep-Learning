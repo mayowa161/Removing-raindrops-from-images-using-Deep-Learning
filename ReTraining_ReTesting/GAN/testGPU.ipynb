{
 "cells": [
  {
   "cell_type": "code",
   "execution_count": 2,
   "metadata": {},
   "outputs": [
    {
     "name": "stdout",
     "output_type": "stream",
     "text": [
      "(80, 1280, 1920, 3)\n"
     ]
    }
   ],
   "source": [
    "from functions import load_dataset\n",
    "import numpy as np\n",
    "\n",
    "rain_images_a = np.asarray(load_dataset(top_dir = '/data/lady6758/Parmeet_Datasets/NewDatasets/OxfordDataSet/30cm/f4.0/clean_images'))\n",
    "# rain_images_b = np.asarray(load_dataset(top_dir = '/data/lady6758/Parmeet_Datasets/NewDatasets/B_Quan/TestSet/rain_images'))\n",
    "# rain_images = np.append(rain_images_a,rain_images_b,axis = 0)\n",
    "print(rain_images_a.shape)\n",
    "# print(rain_images_b.shape)\n",
    "# print(rain_images.shape)\n"
   ]
  },
  {
   "cell_type": "code",
   "execution_count": null,
   "metadata": {},
   "outputs": [],
   "source": []
  }
 ],
 "metadata": {
  "kernelspec": {
   "display_name": "Mayowa_code_env",
   "language": "python",
   "name": "python3"
  },
  "language_info": {
   "codemirror_mode": {
    "name": "ipython",
    "version": 3
   },
   "file_extension": ".py",
   "mimetype": "text/x-python",
   "name": "python",
   "nbconvert_exporter": "python",
   "pygments_lexer": "ipython3",
   "version": "3.12.2"
  }
 },
 "nbformat": 4,
 "nbformat_minor": 2
}
