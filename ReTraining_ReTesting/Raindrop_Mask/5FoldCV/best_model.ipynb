{
 "cells": [
  {
   "cell_type": "code",
   "execution_count": 4,
   "metadata": {},
   "outputs": [],
   "source": [
    "import numpy as np\n",
    "# import tensorflow as tf\n",
    "# import os\n",
    "\n",
    "# from skimage.metrics import structural_similarity as ssim   \n",
    "# from PIL import Image\n",
    "# from tensorflow import keras\n",
    "# from keras import layers\n",
    "# from matplotlib import pyplot as plt\n"
   ]
  },
  {
   "cell_type": "code",
   "execution_count": 5,
   "metadata": {},
   "outputs": [],
   "source": [
    "def mean_std(array):\n",
    "    mean = np.mean(array)\n",
    "    std = np.std(array)\n",
    "    print(f'Mean: {mean}')\n",
    "    print(f'STD: {std}')\n",
    "    return mean, std"
   ]
  },
  {
   "cell_type": "code",
   "execution_count": 6,
   "metadata": {},
   "outputs": [],
   "source": [
    "def standardize(array, mean, std):\n",
    "    return (array - mean) / std"
   ]
  },
  {
   "cell_type": "code",
   "execution_count": 7,
   "metadata": {},
   "outputs": [],
   "source": [
    "folds_array_mse = np.array([0.003718389, 0.00356003906, 0.003795817121, 0.003729905149, 0.003882562396])\n",
    "folds_array_ssim = np.array([0.815427330, 0.82010311854, 0.810176516335, 0.801118551208, 0.815154666870])"
   ]
  },
  {
   "cell_type": "code",
   "execution_count": 8,
   "metadata": {},
   "outputs": [
    {
     "name": "stdout",
     "output_type": "stream",
     "text": [
      "Mean: 0.0037373425452\n",
      "STD: 0.0001061688830904\n",
      "Mean: 0.8123960365905999\n",
      "STD: 0.00645454629926591\n"
     ]
    }
   ],
   "source": [
    "mean_mse, std_mse = mean_std(folds_array_mse)\n",
    "mean_ssim, std_ssim = mean_std(folds_array_ssim)"
   ]
  },
  {
   "cell_type": "code",
   "execution_count": 9,
   "metadata": {},
   "outputs": [],
   "source": [
    "z_scores_mse = standardize(folds_array_mse, mean_mse, std_mse)\n",
    "z_scores_ssim = standardize(folds_array_ssim, mean_ssim, std_ssim)"
   ]
  },
  {
   "cell_type": "code",
   "execution_count": 10,
   "metadata": {},
   "outputs": [
    {
     "name": "stdout",
     "output_type": "stream",
     "text": [
      "Z-scores MSE: [-0.1785226  -1.67001366  0.55076944 -0.0700525   1.36781933]\n",
      "Z-scores SSIM: [ 0.46963695  1.19405479 -0.34386929 -1.74721582  0.42739337]\n"
     ]
    }
   ],
   "source": [
    "print(f'Z-scores MSE: {z_scores_mse}')\n",
    "print(f'Z-scores SSIM: {z_scores_ssim}')"
   ]
  },
  {
   "cell_type": "code",
   "execution_count": 11,
   "metadata": {},
   "outputs": [
    {
     "name": "stdout",
     "output_type": "stream",
     "text": [
      "SSIM - MSE: [ 0.64815955  2.86406846 -0.89463873 -1.67716331 -0.94042596]\n"
     ]
    }
   ],
   "source": [
    "ssim_minus_mse = z_scores_ssim - z_scores_mse\n",
    "print(f'SSIM - MSE: {ssim_minus_mse}')"
   ]
  }
 ],
 "metadata": {
  "kernelspec": {
   "display_name": "Mayowa_code_env",
   "language": "python",
   "name": "python3"
  },
  "language_info": {
   "codemirror_mode": {
    "name": "ipython",
    "version": 3
   },
   "file_extension": ".py",
   "mimetype": "text/x-python",
   "name": "python",
   "nbconvert_exporter": "python",
   "pygments_lexer": "ipython3",
   "version": "3.12.8"
  }
 },
 "nbformat": 4,
 "nbformat_minor": 2
}
